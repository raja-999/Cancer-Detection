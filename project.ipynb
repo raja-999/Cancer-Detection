{
 "cells": [
  {
   "cell_type": "code",
   "execution_count": 1,
   "id": "6d2603d5",
   "metadata": {
    "execution": {
     "iopub.execute_input": "2024-02-02T18:20:40.891840Z",
     "iopub.status.busy": "2024-02-02T18:20:40.890376Z",
     "iopub.status.idle": "2024-02-02T18:20:45.860644Z",
     "shell.execute_reply": "2024-02-02T18:20:45.859940Z",
     "shell.execute_reply.started": "2024-02-02T18:02:56.812827Z"
    },
    "papermill": {
     "duration": 5.096033,
     "end_time": "2024-02-02T18:20:45.860817",
     "exception": false,
     "start_time": "2024-02-02T18:20:40.764784",
     "status": "completed"
    },
    "tags": []
   },
   "outputs": [],
   "source": [
    "import os\n",
    "import numpy as np\n",
    "import pandas as pd\n",
    "import tensorflow as tf\n",
    "from tensorflow import keras\n",
    "from tensorflow.keras import layers\n",
    "from tensorflow.keras.models import Sequential"
   ]
  },
  {
   "cell_type": "code",
   "execution_count": 2,
   "id": "2c38a79c",
   "metadata": {
    "execution": {
     "iopub.execute_input": "2024-02-02T18:20:45.924922Z",
     "iopub.status.busy": "2024-02-02T18:20:45.924321Z",
     "iopub.status.idle": "2024-02-02T18:20:46.499454Z",
     "shell.execute_reply": "2024-02-02T18:20:46.498761Z",
     "shell.execute_reply.started": "2024-02-02T18:03:01.840447Z"
    },
    "papermill": {
     "duration": 0.608639,
     "end_time": "2024-02-02T18:20:46.499592",
     "exception": false,
     "start_time": "2024-02-02T18:20:45.890953",
     "status": "completed"
    },
    "tags": []
   },
   "outputs": [],
   "source": [
    "import seaborn as sns\n",
    "import matplotlib.pyplot as plt\n",
    "%matplotlib inline"
   ]
  },
  {
   "cell_type": "code",
   "execution_count": 3,
   "id": "7b8d0ac0",
   "metadata": {
    "execution": {
     "iopub.execute_input": "2024-02-02T18:20:46.562209Z",
     "iopub.status.busy": "2024-02-02T18:20:46.560442Z",
     "iopub.status.idle": "2024-02-02T18:20:46.564691Z",
     "shell.execute_reply": "2024-02-02T18:20:46.564061Z",
     "shell.execute_reply.started": "2024-02-02T18:03:09.313171Z"
    },
    "papermill": {
     "duration": 0.034792,
     "end_time": "2024-02-02T18:20:46.564812",
     "exception": false,
     "start_time": "2024-02-02T18:20:46.530020",
     "status": "completed"
    },
    "tags": []
   },
   "outputs": [],
   "source": [
    "# Load the data\n",
    "\n",
    "# Get current working directory\n",
    "current_dir = os.getcwd() \n",
    "\n",
    "# Append data/mnist.npz to the previous path to get the full path\n",
    "data_path = \"/kaggle/input/rsna-breast-cancer-detection/train_images\""
   ]
  },
  {
   "cell_type": "code",
   "execution_count": 4,
   "id": "7a459552",
   "metadata": {
    "execution": {
     "iopub.execute_input": "2024-02-02T18:20:46.625772Z",
     "iopub.status.busy": "2024-02-02T18:20:46.624947Z",
     "iopub.status.idle": "2024-02-02T18:20:46.627046Z",
     "shell.execute_reply": "2024-02-02T18:20:46.627542Z",
     "shell.execute_reply.started": "2024-02-02T18:03:15.531252Z"
    },
    "papermill": {
     "duration": 0.034787,
     "end_time": "2024-02-02T18:20:46.627692",
     "exception": false,
     "start_time": "2024-02-02T18:20:46.592905",
     "status": "completed"
    },
    "tags": []
   },
   "outputs": [],
   "source": [
    "def reshape_and_normalize(images):\n",
    "    \n",
    "    # Reshape the images to add an extra dimension\n",
    "    # images = images[..., np.newaxis]\n",
    "    \n",
    "    # Normalize pixel values\n",
    "    images = images / 255.0\n",
    "    \n",
    "    ### END CODE HERE\n",
    "    return images"
   ]
  },
  {
   "cell_type": "code",
   "execution_count": 5,
   "id": "8f89e615",
   "metadata": {
    "execution": {
     "iopub.execute_input": "2024-02-02T18:20:46.688239Z",
     "iopub.status.busy": "2024-02-02T18:20:46.687614Z",
     "iopub.status.idle": "2024-02-02T18:20:46.818349Z",
     "shell.execute_reply": "2024-02-02T18:20:46.818826Z",
     "shell.execute_reply.started": "2024-02-02T18:03:21.492793Z"
    },
    "papermill": {
     "duration": 0.163193,
     "end_time": "2024-02-02T18:20:46.819009",
     "exception": false,
     "start_time": "2024-02-02T18:20:46.655816",
     "status": "completed"
    },
    "tags": []
   },
   "outputs": [],
   "source": [
    "train_csv = pd.read_csv(\"/kaggle/input/rsna-breast-cancer-detection/train.csv\")\n",
    "test_csv = pd.read_csv(\"/kaggle/input/rsna-breast-cancer-detection/test.csv\")"
   ]
  },
  {
   "cell_type": "code",
   "execution_count": 6,
   "id": "fc219bc2",
   "metadata": {
    "execution": {
     "iopub.execute_input": "2024-02-02T18:20:46.892678Z",
     "iopub.status.busy": "2024-02-02T18:20:46.891853Z",
     "iopub.status.idle": "2024-02-02T18:20:46.918703Z",
     "shell.execute_reply": "2024-02-02T18:20:46.918155Z",
     "shell.execute_reply.started": "2024-02-02T18:03:24.106394Z"
    },
    "papermill": {
     "duration": 0.070651,
     "end_time": "2024-02-02T18:20:46.918830",
     "exception": false,
     "start_time": "2024-02-02T18:20:46.848179",
     "status": "completed"
    },
    "tags": []
   },
   "outputs": [
    {
     "data": {
      "text/html": [
       "<div>\n",
       "<style scoped>\n",
       "    .dataframe tbody tr th:only-of-type {\n",
       "        vertical-align: middle;\n",
       "    }\n",
       "\n",
       "    .dataframe tbody tr th {\n",
       "        vertical-align: top;\n",
       "    }\n",
       "\n",
       "    .dataframe thead th {\n",
       "        text-align: right;\n",
       "    }\n",
       "</style>\n",
       "<table border=\"1\" class=\"dataframe\">\n",
       "  <thead>\n",
       "    <tr style=\"text-align: right;\">\n",
       "      <th></th>\n",
       "      <th>site_id</th>\n",
       "      <th>patient_id</th>\n",
       "      <th>image_id</th>\n",
       "      <th>laterality</th>\n",
       "      <th>view</th>\n",
       "      <th>age</th>\n",
       "      <th>cancer</th>\n",
       "      <th>biopsy</th>\n",
       "      <th>invasive</th>\n",
       "      <th>BIRADS</th>\n",
       "      <th>implant</th>\n",
       "      <th>density</th>\n",
       "      <th>machine_id</th>\n",
       "      <th>difficult_negative_case</th>\n",
       "    </tr>\n",
       "  </thead>\n",
       "  <tbody>\n",
       "    <tr>\n",
       "      <th>0</th>\n",
       "      <td>2</td>\n",
       "      <td>10006</td>\n",
       "      <td>462822612</td>\n",
       "      <td>L</td>\n",
       "      <td>CC</td>\n",
       "      <td>61.0</td>\n",
       "      <td>0</td>\n",
       "      <td>0</td>\n",
       "      <td>0</td>\n",
       "      <td>NaN</td>\n",
       "      <td>0</td>\n",
       "      <td>NaN</td>\n",
       "      <td>29</td>\n",
       "      <td>False</td>\n",
       "    </tr>\n",
       "    <tr>\n",
       "      <th>1</th>\n",
       "      <td>2</td>\n",
       "      <td>10006</td>\n",
       "      <td>1459541791</td>\n",
       "      <td>L</td>\n",
       "      <td>MLO</td>\n",
       "      <td>61.0</td>\n",
       "      <td>0</td>\n",
       "      <td>0</td>\n",
       "      <td>0</td>\n",
       "      <td>NaN</td>\n",
       "      <td>0</td>\n",
       "      <td>NaN</td>\n",
       "      <td>29</td>\n",
       "      <td>False</td>\n",
       "    </tr>\n",
       "    <tr>\n",
       "      <th>2</th>\n",
       "      <td>2</td>\n",
       "      <td>10006</td>\n",
       "      <td>1864590858</td>\n",
       "      <td>R</td>\n",
       "      <td>MLO</td>\n",
       "      <td>61.0</td>\n",
       "      <td>0</td>\n",
       "      <td>0</td>\n",
       "      <td>0</td>\n",
       "      <td>NaN</td>\n",
       "      <td>0</td>\n",
       "      <td>NaN</td>\n",
       "      <td>29</td>\n",
       "      <td>False</td>\n",
       "    </tr>\n",
       "    <tr>\n",
       "      <th>3</th>\n",
       "      <td>2</td>\n",
       "      <td>10006</td>\n",
       "      <td>1874946579</td>\n",
       "      <td>R</td>\n",
       "      <td>CC</td>\n",
       "      <td>61.0</td>\n",
       "      <td>0</td>\n",
       "      <td>0</td>\n",
       "      <td>0</td>\n",
       "      <td>NaN</td>\n",
       "      <td>0</td>\n",
       "      <td>NaN</td>\n",
       "      <td>29</td>\n",
       "      <td>False</td>\n",
       "    </tr>\n",
       "    <tr>\n",
       "      <th>4</th>\n",
       "      <td>2</td>\n",
       "      <td>10011</td>\n",
       "      <td>220375232</td>\n",
       "      <td>L</td>\n",
       "      <td>CC</td>\n",
       "      <td>55.0</td>\n",
       "      <td>0</td>\n",
       "      <td>0</td>\n",
       "      <td>0</td>\n",
       "      <td>0.0</td>\n",
       "      <td>0</td>\n",
       "      <td>NaN</td>\n",
       "      <td>21</td>\n",
       "      <td>True</td>\n",
       "    </tr>\n",
       "    <tr>\n",
       "      <th>...</th>\n",
       "      <td>...</td>\n",
       "      <td>...</td>\n",
       "      <td>...</td>\n",
       "      <td>...</td>\n",
       "      <td>...</td>\n",
       "      <td>...</td>\n",
       "      <td>...</td>\n",
       "      <td>...</td>\n",
       "      <td>...</td>\n",
       "      <td>...</td>\n",
       "      <td>...</td>\n",
       "      <td>...</td>\n",
       "      <td>...</td>\n",
       "      <td>...</td>\n",
       "    </tr>\n",
       "    <tr>\n",
       "      <th>54701</th>\n",
       "      <td>1</td>\n",
       "      <td>9973</td>\n",
       "      <td>1729524723</td>\n",
       "      <td>R</td>\n",
       "      <td>MLO</td>\n",
       "      <td>43.0</td>\n",
       "      <td>0</td>\n",
       "      <td>0</td>\n",
       "      <td>0</td>\n",
       "      <td>1.0</td>\n",
       "      <td>0</td>\n",
       "      <td>C</td>\n",
       "      <td>49</td>\n",
       "      <td>False</td>\n",
       "    </tr>\n",
       "    <tr>\n",
       "      <th>54702</th>\n",
       "      <td>1</td>\n",
       "      <td>9989</td>\n",
       "      <td>63473691</td>\n",
       "      <td>L</td>\n",
       "      <td>MLO</td>\n",
       "      <td>60.0</td>\n",
       "      <td>0</td>\n",
       "      <td>0</td>\n",
       "      <td>0</td>\n",
       "      <td>NaN</td>\n",
       "      <td>0</td>\n",
       "      <td>C</td>\n",
       "      <td>216</td>\n",
       "      <td>False</td>\n",
       "    </tr>\n",
       "    <tr>\n",
       "      <th>54703</th>\n",
       "      <td>1</td>\n",
       "      <td>9989</td>\n",
       "      <td>1078943060</td>\n",
       "      <td>L</td>\n",
       "      <td>CC</td>\n",
       "      <td>60.0</td>\n",
       "      <td>0</td>\n",
       "      <td>0</td>\n",
       "      <td>0</td>\n",
       "      <td>NaN</td>\n",
       "      <td>0</td>\n",
       "      <td>C</td>\n",
       "      <td>216</td>\n",
       "      <td>False</td>\n",
       "    </tr>\n",
       "    <tr>\n",
       "      <th>54704</th>\n",
       "      <td>1</td>\n",
       "      <td>9989</td>\n",
       "      <td>398038886</td>\n",
       "      <td>R</td>\n",
       "      <td>MLO</td>\n",
       "      <td>60.0</td>\n",
       "      <td>0</td>\n",
       "      <td>0</td>\n",
       "      <td>0</td>\n",
       "      <td>0.0</td>\n",
       "      <td>0</td>\n",
       "      <td>C</td>\n",
       "      <td>216</td>\n",
       "      <td>True</td>\n",
       "    </tr>\n",
       "    <tr>\n",
       "      <th>54705</th>\n",
       "      <td>1</td>\n",
       "      <td>9989</td>\n",
       "      <td>439796429</td>\n",
       "      <td>R</td>\n",
       "      <td>CC</td>\n",
       "      <td>60.0</td>\n",
       "      <td>0</td>\n",
       "      <td>0</td>\n",
       "      <td>0</td>\n",
       "      <td>0.0</td>\n",
       "      <td>0</td>\n",
       "      <td>C</td>\n",
       "      <td>216</td>\n",
       "      <td>True</td>\n",
       "    </tr>\n",
       "  </tbody>\n",
       "</table>\n",
       "<p>54706 rows × 14 columns</p>\n",
       "</div>"
      ],
      "text/plain": [
       "       site_id  patient_id    image_id laterality view   age  cancer  biopsy  \\\n",
       "0            2       10006   462822612          L   CC  61.0       0       0   \n",
       "1            2       10006  1459541791          L  MLO  61.0       0       0   \n",
       "2            2       10006  1864590858          R  MLO  61.0       0       0   \n",
       "3            2       10006  1874946579          R   CC  61.0       0       0   \n",
       "4            2       10011   220375232          L   CC  55.0       0       0   \n",
       "...        ...         ...         ...        ...  ...   ...     ...     ...   \n",
       "54701        1        9973  1729524723          R  MLO  43.0       0       0   \n",
       "54702        1        9989    63473691          L  MLO  60.0       0       0   \n",
       "54703        1        9989  1078943060          L   CC  60.0       0       0   \n",
       "54704        1        9989   398038886          R  MLO  60.0       0       0   \n",
       "54705        1        9989   439796429          R   CC  60.0       0       0   \n",
       "\n",
       "       invasive  BIRADS  implant density  machine_id  difficult_negative_case  \n",
       "0             0     NaN        0     NaN          29                    False  \n",
       "1             0     NaN        0     NaN          29                    False  \n",
       "2             0     NaN        0     NaN          29                    False  \n",
       "3             0     NaN        0     NaN          29                    False  \n",
       "4             0     0.0        0     NaN          21                     True  \n",
       "...         ...     ...      ...     ...         ...                      ...  \n",
       "54701         0     1.0        0       C          49                    False  \n",
       "54702         0     NaN        0       C         216                    False  \n",
       "54703         0     NaN        0       C         216                    False  \n",
       "54704         0     0.0        0       C         216                     True  \n",
       "54705         0     0.0        0       C         216                     True  \n",
       "\n",
       "[54706 rows x 14 columns]"
      ]
     },
     "execution_count": 6,
     "metadata": {},
     "output_type": "execute_result"
    }
   ],
   "source": [
    "train_csv"
   ]
  },
  {
   "cell_type": "code",
   "execution_count": 7,
   "id": "931ec5e3",
   "metadata": {
    "execution": {
     "iopub.execute_input": "2024-02-02T18:20:46.989885Z",
     "iopub.status.busy": "2024-02-02T18:20:46.989152Z",
     "iopub.status.idle": "2024-02-02T18:20:46.992410Z",
     "shell.execute_reply": "2024-02-02T18:20:46.992885Z",
     "shell.execute_reply.started": "2024-02-02T18:03:34.687671Z"
    },
    "papermill": {
     "duration": 0.044061,
     "end_time": "2024-02-02T18:20:46.993038",
     "exception": false,
     "start_time": "2024-02-02T18:20:46.948977",
     "status": "completed"
    },
    "tags": []
   },
   "outputs": [
    {
     "data": {
      "text/html": [
       "<div>\n",
       "<style scoped>\n",
       "    .dataframe tbody tr th:only-of-type {\n",
       "        vertical-align: middle;\n",
       "    }\n",
       "\n",
       "    .dataframe tbody tr th {\n",
       "        vertical-align: top;\n",
       "    }\n",
       "\n",
       "    .dataframe thead th {\n",
       "        text-align: right;\n",
       "    }\n",
       "</style>\n",
       "<table border=\"1\" class=\"dataframe\">\n",
       "  <thead>\n",
       "    <tr style=\"text-align: right;\">\n",
       "      <th></th>\n",
       "      <th>site_id</th>\n",
       "      <th>patient_id</th>\n",
       "      <th>image_id</th>\n",
       "      <th>laterality</th>\n",
       "      <th>view</th>\n",
       "      <th>age</th>\n",
       "      <th>implant</th>\n",
       "      <th>machine_id</th>\n",
       "      <th>prediction_id</th>\n",
       "    </tr>\n",
       "  </thead>\n",
       "  <tbody>\n",
       "    <tr>\n",
       "      <th>0</th>\n",
       "      <td>2</td>\n",
       "      <td>10008</td>\n",
       "      <td>736471439</td>\n",
       "      <td>L</td>\n",
       "      <td>MLO</td>\n",
       "      <td>81</td>\n",
       "      <td>0</td>\n",
       "      <td>21</td>\n",
       "      <td>10008_L</td>\n",
       "    </tr>\n",
       "    <tr>\n",
       "      <th>1</th>\n",
       "      <td>2</td>\n",
       "      <td>10008</td>\n",
       "      <td>1591370361</td>\n",
       "      <td>L</td>\n",
       "      <td>CC</td>\n",
       "      <td>81</td>\n",
       "      <td>0</td>\n",
       "      <td>21</td>\n",
       "      <td>10008_L</td>\n",
       "    </tr>\n",
       "    <tr>\n",
       "      <th>2</th>\n",
       "      <td>2</td>\n",
       "      <td>10008</td>\n",
       "      <td>68070693</td>\n",
       "      <td>R</td>\n",
       "      <td>MLO</td>\n",
       "      <td>81</td>\n",
       "      <td>0</td>\n",
       "      <td>21</td>\n",
       "      <td>10008_R</td>\n",
       "    </tr>\n",
       "    <tr>\n",
       "      <th>3</th>\n",
       "      <td>2</td>\n",
       "      <td>10008</td>\n",
       "      <td>361203119</td>\n",
       "      <td>R</td>\n",
       "      <td>CC</td>\n",
       "      <td>81</td>\n",
       "      <td>0</td>\n",
       "      <td>21</td>\n",
       "      <td>10008_R</td>\n",
       "    </tr>\n",
       "  </tbody>\n",
       "</table>\n",
       "</div>"
      ],
      "text/plain": [
       "   site_id  patient_id    image_id laterality view  age  implant  machine_id  \\\n",
       "0        2       10008   736471439          L  MLO   81        0          21   \n",
       "1        2       10008  1591370361          L   CC   81        0          21   \n",
       "2        2       10008    68070693          R  MLO   81        0          21   \n",
       "3        2       10008   361203119          R   CC   81        0          21   \n",
       "\n",
       "  prediction_id  \n",
       "0       10008_L  \n",
       "1       10008_L  \n",
       "2       10008_R  \n",
       "3       10008_R  "
      ]
     },
     "execution_count": 7,
     "metadata": {},
     "output_type": "execute_result"
    }
   ],
   "source": [
    "test_csv"
   ]
  },
  {
   "cell_type": "code",
   "execution_count": 8,
   "id": "371cdee3",
   "metadata": {
    "execution": {
     "iopub.execute_input": "2024-02-02T18:20:47.067653Z",
     "iopub.status.busy": "2024-02-02T18:20:47.066468Z",
     "iopub.status.idle": "2024-02-02T18:20:47.070691Z",
     "shell.execute_reply": "2024-02-02T18:20:47.071181Z",
     "shell.execute_reply.started": "2024-02-02T18:04:12.029796Z"
    },
    "papermill": {
     "duration": 0.048544,
     "end_time": "2024-02-02T18:20:47.071340",
     "exception": false,
     "start_time": "2024-02-02T18:20:47.022796",
     "status": "completed"
    },
    "tags": []
   },
   "outputs": [
    {
     "data": {
      "text/plain": [
       "11913"
      ]
     },
     "execution_count": 8,
     "metadata": {},
     "output_type": "execute_result"
    }
   ],
   "source": [
    "len(set(train_csv.patient_id))"
   ]
  },
  {
   "cell_type": "code",
   "execution_count": 9,
   "id": "f0d92b4a",
   "metadata": {
    "execution": {
     "iopub.execute_input": "2024-02-02T18:20:47.149427Z",
     "iopub.status.busy": "2024-02-02T18:20:47.148629Z",
     "iopub.status.idle": "2024-02-02T18:20:47.152121Z",
     "shell.execute_reply": "2024-02-02T18:20:47.151655Z",
     "shell.execute_reply.started": "2024-02-02T18:06:50.390263Z"
    },
    "papermill": {
     "duration": 0.051251,
     "end_time": "2024-02-02T18:20:47.152284",
     "exception": false,
     "start_time": "2024-02-02T18:20:47.101033",
     "status": "completed"
    },
    "tags": []
   },
   "outputs": [
    {
     "data": {
      "text/plain": [
       "R    27439\n",
       "L    27267\n",
       "Name: laterality, dtype: int64"
      ]
     },
     "execution_count": 9,
     "metadata": {},
     "output_type": "execute_result"
    }
   ],
   "source": [
    "train_csv.laterality.value_counts()"
   ]
  },
  {
   "cell_type": "code",
   "execution_count": 10,
   "id": "c611db64",
   "metadata": {
    "execution": {
     "iopub.execute_input": "2024-02-02T18:20:47.218375Z",
     "iopub.status.busy": "2024-02-02T18:20:47.217641Z",
     "iopub.status.idle": "2024-02-02T18:20:47.258417Z",
     "shell.execute_reply": "2024-02-02T18:20:47.257775Z",
     "shell.execute_reply.started": "2024-02-02T18:06:54.517644Z"
    },
    "papermill": {
     "duration": 0.076042,
     "end_time": "2024-02-02T18:20:47.258548",
     "exception": false,
     "start_time": "2024-02-02T18:20:47.182506",
     "status": "completed"
    },
    "tags": []
   },
   "outputs": [
    {
     "name": "stdout",
     "output_type": "stream",
     "text": [
      "(53548, 14) (1158, 14)\n",
      "R    26869\n",
      "L    26679\n",
      "Name: laterality, dtype: int64\n",
      "L    588\n",
      "R    570\n",
      "Name: laterality, dtype: int64\n"
     ]
    }
   ],
   "source": [
    "train_subset_0 = train_csv[train_csv.cancer == 0]\n",
    "train_subset_1 = train_csv[train_csv.cancer == 1]\n",
    "print(train_subset_0.shape, train_subset_1.shape)\n",
    "print(train_subset_0.laterality.value_counts())\n",
    "print(train_subset_1.laterality.value_counts())"
   ]
  },
  {
   "cell_type": "markdown",
   "id": "5d31db65",
   "metadata": {
    "papermill": {
     "duration": 0.030603,
     "end_time": "2024-02-02T18:20:47.319608",
     "exception": false,
     "start_time": "2024-02-02T18:20:47.289005",
     "status": "completed"
    },
    "tags": []
   },
   "source": [
    "take data subset"
   ]
  },
  {
   "cell_type": "code",
   "execution_count": 11,
   "id": "60d21f3b",
   "metadata": {
    "execution": {
     "iopub.execute_input": "2024-02-02T18:20:47.392798Z",
     "iopub.status.busy": "2024-02-02T18:20:47.391892Z",
     "iopub.status.idle": "2024-02-02T18:20:47.413353Z",
     "shell.execute_reply": "2024-02-02T18:20:47.413864Z",
     "shell.execute_reply.started": "2024-02-02T18:06:59.196599Z"
    },
    "papermill": {
     "duration": 0.064155,
     "end_time": "2024-02-02T18:20:47.414021",
     "exception": false,
     "start_time": "2024-02-02T18:20:47.349866",
     "status": "completed"
    },
    "tags": []
   },
   "outputs": [],
   "source": [
    "train_subset_0_L = train_subset_0[train_subset_0.laterality == \"L\"].iloc[:588,]\n",
    "train_subset_0_R = train_subset_0[train_subset_0.laterality == \"R\"].iloc[:570,]\n",
    "train_subset_main = pd.concat([train_subset_0_L, train_subset_0_R, train_subset_1])"
   ]
  },
  {
   "cell_type": "code",
   "execution_count": 12,
   "id": "bc0b8557",
   "metadata": {
    "execution": {
     "iopub.execute_input": "2024-02-02T18:20:47.490765Z",
     "iopub.status.busy": "2024-02-02T18:20:47.483248Z",
     "iopub.status.idle": "2024-02-02T18:20:47.505656Z",
     "shell.execute_reply": "2024-02-02T18:20:47.505147Z",
     "shell.execute_reply.started": "2024-02-02T18:07:03.748151Z"
    },
    "papermill": {
     "duration": 0.061071,
     "end_time": "2024-02-02T18:20:47.505786",
     "exception": false,
     "start_time": "2024-02-02T18:20:47.444715",
     "status": "completed"
    },
    "tags": []
   },
   "outputs": [
    {
     "data": {
      "text/html": [
       "<div>\n",
       "<style scoped>\n",
       "    .dataframe tbody tr th:only-of-type {\n",
       "        vertical-align: middle;\n",
       "    }\n",
       "\n",
       "    .dataframe tbody tr th {\n",
       "        vertical-align: top;\n",
       "    }\n",
       "\n",
       "    .dataframe thead th {\n",
       "        text-align: right;\n",
       "    }\n",
       "</style>\n",
       "<table border=\"1\" class=\"dataframe\">\n",
       "  <thead>\n",
       "    <tr style=\"text-align: right;\">\n",
       "      <th></th>\n",
       "      <th>site_id</th>\n",
       "      <th>patient_id</th>\n",
       "      <th>image_id</th>\n",
       "      <th>laterality</th>\n",
       "      <th>view</th>\n",
       "      <th>age</th>\n",
       "      <th>cancer</th>\n",
       "      <th>biopsy</th>\n",
       "      <th>invasive</th>\n",
       "      <th>BIRADS</th>\n",
       "      <th>implant</th>\n",
       "      <th>density</th>\n",
       "      <th>machine_id</th>\n",
       "      <th>difficult_negative_case</th>\n",
       "    </tr>\n",
       "  </thead>\n",
       "  <tbody>\n",
       "    <tr>\n",
       "      <th>0</th>\n",
       "      <td>2</td>\n",
       "      <td>10006</td>\n",
       "      <td>462822612</td>\n",
       "      <td>L</td>\n",
       "      <td>CC</td>\n",
       "      <td>61.0</td>\n",
       "      <td>0</td>\n",
       "      <td>0</td>\n",
       "      <td>0</td>\n",
       "      <td>NaN</td>\n",
       "      <td>0</td>\n",
       "      <td>NaN</td>\n",
       "      <td>29</td>\n",
       "      <td>False</td>\n",
       "    </tr>\n",
       "    <tr>\n",
       "      <th>1</th>\n",
       "      <td>2</td>\n",
       "      <td>10006</td>\n",
       "      <td>1459541791</td>\n",
       "      <td>L</td>\n",
       "      <td>MLO</td>\n",
       "      <td>61.0</td>\n",
       "      <td>0</td>\n",
       "      <td>0</td>\n",
       "      <td>0</td>\n",
       "      <td>NaN</td>\n",
       "      <td>0</td>\n",
       "      <td>NaN</td>\n",
       "      <td>29</td>\n",
       "      <td>False</td>\n",
       "    </tr>\n",
       "    <tr>\n",
       "      <th>4</th>\n",
       "      <td>2</td>\n",
       "      <td>10011</td>\n",
       "      <td>220375232</td>\n",
       "      <td>L</td>\n",
       "      <td>CC</td>\n",
       "      <td>55.0</td>\n",
       "      <td>0</td>\n",
       "      <td>0</td>\n",
       "      <td>0</td>\n",
       "      <td>0.0</td>\n",
       "      <td>0</td>\n",
       "      <td>NaN</td>\n",
       "      <td>21</td>\n",
       "      <td>True</td>\n",
       "    </tr>\n",
       "    <tr>\n",
       "      <th>5</th>\n",
       "      <td>2</td>\n",
       "      <td>10011</td>\n",
       "      <td>270344397</td>\n",
       "      <td>L</td>\n",
       "      <td>MLO</td>\n",
       "      <td>55.0</td>\n",
       "      <td>0</td>\n",
       "      <td>0</td>\n",
       "      <td>0</td>\n",
       "      <td>0.0</td>\n",
       "      <td>0</td>\n",
       "      <td>NaN</td>\n",
       "      <td>21</td>\n",
       "      <td>True</td>\n",
       "    </tr>\n",
       "    <tr>\n",
       "      <th>8</th>\n",
       "      <td>2</td>\n",
       "      <td>10025</td>\n",
       "      <td>562340703</td>\n",
       "      <td>L</td>\n",
       "      <td>CC</td>\n",
       "      <td>75.0</td>\n",
       "      <td>0</td>\n",
       "      <td>0</td>\n",
       "      <td>0</td>\n",
       "      <td>NaN</td>\n",
       "      <td>0</td>\n",
       "      <td>NaN</td>\n",
       "      <td>29</td>\n",
       "      <td>False</td>\n",
       "    </tr>\n",
       "    <tr>\n",
       "      <th>...</th>\n",
       "      <td>...</td>\n",
       "      <td>...</td>\n",
       "      <td>...</td>\n",
       "      <td>...</td>\n",
       "      <td>...</td>\n",
       "      <td>...</td>\n",
       "      <td>...</td>\n",
       "      <td>...</td>\n",
       "      <td>...</td>\n",
       "      <td>...</td>\n",
       "      <td>...</td>\n",
       "      <td>...</td>\n",
       "      <td>...</td>\n",
       "      <td>...</td>\n",
       "    </tr>\n",
       "    <tr>\n",
       "      <th>54485</th>\n",
       "      <td>2</td>\n",
       "      <td>9707</td>\n",
       "      <td>1900919592</td>\n",
       "      <td>R</td>\n",
       "      <td>MLO</td>\n",
       "      <td>56.0</td>\n",
       "      <td>1</td>\n",
       "      <td>1</td>\n",
       "      <td>1</td>\n",
       "      <td>NaN</td>\n",
       "      <td>0</td>\n",
       "      <td>NaN</td>\n",
       "      <td>21</td>\n",
       "      <td>False</td>\n",
       "    </tr>\n",
       "    <tr>\n",
       "      <th>54593</th>\n",
       "      <td>2</td>\n",
       "      <td>9840</td>\n",
       "      <td>111786935</td>\n",
       "      <td>R</td>\n",
       "      <td>MLO</td>\n",
       "      <td>59.0</td>\n",
       "      <td>1</td>\n",
       "      <td>1</td>\n",
       "      <td>1</td>\n",
       "      <td>NaN</td>\n",
       "      <td>0</td>\n",
       "      <td>NaN</td>\n",
       "      <td>21</td>\n",
       "      <td>False</td>\n",
       "    </tr>\n",
       "    <tr>\n",
       "      <th>54594</th>\n",
       "      <td>2</td>\n",
       "      <td>9840</td>\n",
       "      <td>1559360810</td>\n",
       "      <td>R</td>\n",
       "      <td>CC</td>\n",
       "      <td>59.0</td>\n",
       "      <td>1</td>\n",
       "      <td>1</td>\n",
       "      <td>1</td>\n",
       "      <td>NaN</td>\n",
       "      <td>0</td>\n",
       "      <td>NaN</td>\n",
       "      <td>21</td>\n",
       "      <td>False</td>\n",
       "    </tr>\n",
       "    <tr>\n",
       "      <th>54595</th>\n",
       "      <td>2</td>\n",
       "      <td>9851</td>\n",
       "      <td>1409270544</td>\n",
       "      <td>L</td>\n",
       "      <td>MLO</td>\n",
       "      <td>58.0</td>\n",
       "      <td>1</td>\n",
       "      <td>1</td>\n",
       "      <td>0</td>\n",
       "      <td>NaN</td>\n",
       "      <td>0</td>\n",
       "      <td>NaN</td>\n",
       "      <td>48</td>\n",
       "      <td>False</td>\n",
       "    </tr>\n",
       "    <tr>\n",
       "      <th>54596</th>\n",
       "      <td>2</td>\n",
       "      <td>9851</td>\n",
       "      <td>1434430689</td>\n",
       "      <td>L</td>\n",
       "      <td>CC</td>\n",
       "      <td>58.0</td>\n",
       "      <td>1</td>\n",
       "      <td>1</td>\n",
       "      <td>0</td>\n",
       "      <td>NaN</td>\n",
       "      <td>0</td>\n",
       "      <td>NaN</td>\n",
       "      <td>48</td>\n",
       "      <td>False</td>\n",
       "    </tr>\n",
       "  </tbody>\n",
       "</table>\n",
       "<p>2316 rows × 14 columns</p>\n",
       "</div>"
      ],
      "text/plain": [
       "       site_id  patient_id    image_id laterality view   age  cancer  biopsy  \\\n",
       "0            2       10006   462822612          L   CC  61.0       0       0   \n",
       "1            2       10006  1459541791          L  MLO  61.0       0       0   \n",
       "4            2       10011   220375232          L   CC  55.0       0       0   \n",
       "5            2       10011   270344397          L  MLO  55.0       0       0   \n",
       "8            2       10025   562340703          L   CC  75.0       0       0   \n",
       "...        ...         ...         ...        ...  ...   ...     ...     ...   \n",
       "54485        2        9707  1900919592          R  MLO  56.0       1       1   \n",
       "54593        2        9840   111786935          R  MLO  59.0       1       1   \n",
       "54594        2        9840  1559360810          R   CC  59.0       1       1   \n",
       "54595        2        9851  1409270544          L  MLO  58.0       1       1   \n",
       "54596        2        9851  1434430689          L   CC  58.0       1       1   \n",
       "\n",
       "       invasive  BIRADS  implant density  machine_id  difficult_negative_case  \n",
       "0             0     NaN        0     NaN          29                    False  \n",
       "1             0     NaN        0     NaN          29                    False  \n",
       "4             0     0.0        0     NaN          21                     True  \n",
       "5             0     0.0        0     NaN          21                     True  \n",
       "8             0     NaN        0     NaN          29                    False  \n",
       "...         ...     ...      ...     ...         ...                      ...  \n",
       "54485         1     NaN        0     NaN          21                    False  \n",
       "54593         1     NaN        0     NaN          21                    False  \n",
       "54594         1     NaN        0     NaN          21                    False  \n",
       "54595         0     NaN        0     NaN          48                    False  \n",
       "54596         0     NaN        0     NaN          48                    False  \n",
       "\n",
       "[2316 rows x 14 columns]"
      ]
     },
     "execution_count": 12,
     "metadata": {},
     "output_type": "execute_result"
    }
   ],
   "source": [
    "train_subset_main"
   ]
  },
  {
   "cell_type": "code",
   "execution_count": 13,
   "id": "1aba4c03",
   "metadata": {
    "execution": {
     "iopub.execute_input": "2024-02-02T18:20:47.573657Z",
     "iopub.status.busy": "2024-02-02T18:20:47.572995Z",
     "iopub.status.idle": "2024-02-02T18:20:47.576363Z",
     "shell.execute_reply": "2024-02-02T18:20:47.575863Z",
     "shell.execute_reply.started": "2024-02-02T18:07:20.537607Z"
    },
    "papermill": {
     "duration": 0.038863,
     "end_time": "2024-02-02T18:20:47.576488",
     "exception": false,
     "start_time": "2024-02-02T18:20:47.537625",
     "status": "completed"
    },
    "tags": []
   },
   "outputs": [
    {
     "data": {
      "text/plain": [
       "(2316, 14)"
      ]
     },
     "execution_count": 13,
     "metadata": {},
     "output_type": "execute_result"
    }
   ],
   "source": [
    "train_subset_main.shape"
   ]
  },
  {
   "cell_type": "code",
   "execution_count": 14,
   "id": "ba23c752",
   "metadata": {
    "execution": {
     "iopub.execute_input": "2024-02-02T18:20:47.643690Z",
     "iopub.status.busy": "2024-02-02T18:20:47.643097Z",
     "iopub.status.idle": "2024-02-02T18:20:47.645715Z",
     "shell.execute_reply": "2024-02-02T18:20:47.646181Z",
     "shell.execute_reply.started": "2024-02-02T18:07:24.909280Z"
    },
    "papermill": {
     "duration": 0.038121,
     "end_time": "2024-02-02T18:20:47.646322",
     "exception": false,
     "start_time": "2024-02-02T18:20:47.608201",
     "status": "completed"
    },
    "tags": []
   },
   "outputs": [],
   "source": [
    "os.mkdir('/kaggle/working/input_transformed/')"
   ]
  },
  {
   "cell_type": "code",
   "execution_count": 15,
   "id": "0184c4ed",
   "metadata": {
    "execution": {
     "iopub.execute_input": "2024-02-02T18:20:47.713045Z",
     "iopub.status.busy": "2024-02-02T18:20:47.712424Z",
     "iopub.status.idle": "2024-02-02T18:20:47.715356Z",
     "shell.execute_reply": "2024-02-02T18:20:47.714772Z",
     "shell.execute_reply.started": "2024-02-02T18:07:27.828297Z"
    },
    "papermill": {
     "duration": 0.037857,
     "end_time": "2024-02-02T18:20:47.715480",
     "exception": false,
     "start_time": "2024-02-02T18:20:47.677623",
     "status": "completed"
    },
    "tags": []
   },
   "outputs": [],
   "source": [
    "os.mkdir('/kaggle/working/input_transformed/0/')\n",
    "os.mkdir('/kaggle/working/input_transformed/1/')"
   ]
  },
  {
   "cell_type": "code",
   "execution_count": 16,
   "id": "cb1b7326",
   "metadata": {
    "execution": {
     "iopub.execute_input": "2024-02-02T18:20:47.782316Z",
     "iopub.status.busy": "2024-02-02T18:20:47.781507Z",
     "iopub.status.idle": "2024-02-02T18:20:47.783586Z",
     "shell.execute_reply": "2024-02-02T18:20:47.784051Z",
     "shell.execute_reply.started": "2024-02-02T18:07:30.802416Z"
    },
    "papermill": {
     "duration": 0.037488,
     "end_time": "2024-02-02T18:20:47.784225",
     "exception": false,
     "start_time": "2024-02-02T18:20:47.746737",
     "status": "completed"
    },
    "tags": []
   },
   "outputs": [],
   "source": [
    "import shutil\n",
    "from tqdm import tqdm\n",
    "# shutil.copyfile(src, dst)"
   ]
  },
  {
   "cell_type": "code",
   "execution_count": 17,
   "id": "720ee4b4",
   "metadata": {
    "execution": {
     "iopub.execute_input": "2024-02-02T18:20:47.855753Z",
     "iopub.status.busy": "2024-02-02T18:20:47.855102Z",
     "iopub.status.idle": "2024-02-02T18:21:21.339202Z",
     "shell.execute_reply": "2024-02-02T18:21:21.339704Z",
     "shell.execute_reply.started": "2024-02-02T18:07:34.357427Z"
    },
    "papermill": {
     "duration": 33.52286,
     "end_time": "2024-02-02T18:21:21.339866",
     "exception": false,
     "start_time": "2024-02-02T18:20:47.817006",
     "status": "completed"
    },
    "tags": []
   },
   "outputs": [
    {
     "name": "stderr",
     "output_type": "stream",
     "text": [
      "2316it [00:33, 69.19it/s]\n"
     ]
    }
   ],
   "source": [
    "p_id = train_subset_main.patient_id\n",
    "i_id = train_subset_main.image_id\n",
    "cncr = train_subset_main.cancer\n",
    "for pp, ii, cc in tqdm(zip(p_id, i_id, cncr)):\n",
    "    tmpFile = str(pp) + \"_\" + str(ii) + \".png\"\n",
    "    tmpSrc = \"/kaggle/input/rsna-breast-cancer-512-pngs/\" + tmpFile\n",
    "    tmpDst = \"/kaggle/working/input_transformed/\" + str(cc) + \"/\" + tmpFile\n",
    "    shutil.copyfile(tmpSrc, tmpDst)"
   ]
  },
  {
   "cell_type": "code",
   "execution_count": 18,
   "id": "66e7f195",
   "metadata": {
    "execution": {
     "iopub.execute_input": "2024-02-02T18:21:21.592675Z",
     "iopub.status.busy": "2024-02-02T18:21:21.591907Z",
     "iopub.status.idle": "2024-02-02T18:21:23.776586Z",
     "shell.execute_reply": "2024-02-02T18:21:23.775993Z",
     "shell.execute_reply.started": "2024-02-02T18:08:23.285791Z"
    },
    "papermill": {
     "duration": 2.313031,
     "end_time": "2024-02-02T18:21:23.776737",
     "exception": false,
     "start_time": "2024-02-02T18:21:21.463706",
     "status": "completed"
    },
    "tags": []
   },
   "outputs": [
    {
     "name": "stdout",
     "output_type": "stream",
     "text": [
      "Found 2316 files belonging to 2 classes.\n",
      "Using 1853 files for training.\n"
     ]
    }
   ],
   "source": [
    "train_ds = tf.keras.preprocessing.image_dataset_from_directory(\n",
    "    \"/kaggle/working/input_transformed/\",\n",
    "    color_mode='rgb',\n",
    "    image_size=(512, 512),\n",
    "    shuffle=True,\n",
    "    validation_split=0.2,\n",
    "    subset=\"training\",\n",
    "    seed=2023)"
   ]
  },
  {
   "cell_type": "code",
   "execution_count": 19,
   "id": "5b1ad8c2",
   "metadata": {
    "execution": {
     "iopub.execute_input": "2024-02-02T18:21:24.032332Z",
     "iopub.status.busy": "2024-02-02T18:21:24.031650Z",
     "iopub.status.idle": "2024-02-02T18:21:24.154278Z",
     "shell.execute_reply": "2024-02-02T18:21:24.153665Z",
     "shell.execute_reply.started": "2024-02-02T18:08:38.821011Z"
    },
    "papermill": {
     "duration": 0.253529,
     "end_time": "2024-02-02T18:21:24.154410",
     "exception": false,
     "start_time": "2024-02-02T18:21:23.900881",
     "status": "completed"
    },
    "tags": []
   },
   "outputs": [
    {
     "name": "stdout",
     "output_type": "stream",
     "text": [
      "Found 2316 files belonging to 2 classes.\n",
      "Using 463 files for validation.\n"
     ]
    }
   ],
   "source": [
    "valid_ds = tf.keras.preprocessing.image_dataset_from_directory(\n",
    "    \"/kaggle/working/input_transformed/\",\n",
    "    color_mode='rgb',\n",
    "    image_size=(512, 512),\n",
    "    shuffle=True,\n",
    "    validation_split=0.2,\n",
    "    subset=\"validation\",\n",
    "    seed=2023)"
   ]
  },
  {
   "cell_type": "code",
   "execution_count": 20,
   "id": "a724d557",
   "metadata": {
    "execution": {
     "iopub.execute_input": "2024-02-02T18:21:24.408712Z",
     "iopub.status.busy": "2024-02-02T18:21:24.407732Z",
     "iopub.status.idle": "2024-02-02T18:21:24.410342Z",
     "shell.execute_reply": "2024-02-02T18:21:24.409706Z",
     "shell.execute_reply.started": "2024-02-02T18:08:42.796217Z"
    },
    "papermill": {
     "duration": 0.131028,
     "end_time": "2024-02-02T18:21:24.410479",
     "exception": false,
     "start_time": "2024-02-02T18:21:24.279451",
     "status": "completed"
    },
    "tags": []
   },
   "outputs": [],
   "source": [
    "from tensorflow.keras.layers import Dropout"
   ]
  },
  {
   "cell_type": "markdown",
   "id": "60049b6c",
   "metadata": {
    "papermill": {
     "duration": 0.123656,
     "end_time": "2024-02-02T18:21:24.659860",
     "exception": false,
     "start_time": "2024-02-02T18:21:24.536204",
     "status": "completed"
    },
    "tags": []
   },
   "source": [
    "> **#CNN Model**"
   ]
  },
  {
   "cell_type": "code",
   "execution_count": 21,
   "id": "9b232cb4",
   "metadata": {
    "execution": {
     "iopub.execute_input": "2024-02-02T18:21:24.915351Z",
     "iopub.status.busy": "2024-02-02T18:21:24.914705Z",
     "iopub.status.idle": "2024-02-02T18:21:25.005927Z",
     "shell.execute_reply": "2024-02-02T18:21:25.006398Z",
     "shell.execute_reply.started": "2024-02-02T18:09:40.437692Z"
    },
    "papermill": {
     "duration": 0.223145,
     "end_time": "2024-02-02T18:21:25.006580",
     "exception": false,
     "start_time": "2024-02-02T18:21:24.783435",
     "status": "completed"
    },
    "tags": []
   },
   "outputs": [],
   "source": [
    "num_classes = 2\n",
    "\n",
    "model = Sequential([\n",
    "  layers.experimental.preprocessing.Rescaling(1./255, input_shape=(512, 512, 3)),\n",
    "  layers.Conv2D(16, 3, padding='same', activation='relu'),  \n",
    "  layers.MaxPooling2D(),   \n",
    "  layers.Conv2D(32, 3, padding='same', activation='relu'),\n",
    "  layers.MaxPooling2D(),\n",
    "  layers.Dropout(0.2),\n",
    "  layers.Conv2D(64, 3, padding='same', activation='relu'),\n",
    "  layers.MaxPooling2D(),\n",
    "  layers.Flatten(),\n",
    "  layers.Dense(128, activation='relu'),\n",
    "  layers.Dense(num_classes)\n",
    "])\n"
   ]
  },
  {
   "cell_type": "code",
   "execution_count": 22,
   "id": "e9c83dd6",
   "metadata": {
    "execution": {
     "iopub.execute_input": "2024-02-02T18:21:25.262579Z",
     "iopub.status.busy": "2024-02-02T18:21:25.261937Z",
     "iopub.status.idle": "2024-02-02T18:21:25.267257Z",
     "shell.execute_reply": "2024-02-02T18:21:25.266719Z",
     "shell.execute_reply.started": "2024-02-02T18:09:44.714297Z"
    },
    "papermill": {
     "duration": 0.136411,
     "end_time": "2024-02-02T18:21:25.267390",
     "exception": false,
     "start_time": "2024-02-02T18:21:25.130979",
     "status": "completed"
    },
    "tags": []
   },
   "outputs": [
    {
     "name": "stdout",
     "output_type": "stream",
     "text": [
      "Model: \"sequential\"\n",
      "_________________________________________________________________\n",
      "Layer (type)                 Output Shape              Param #   \n",
      "=================================================================\n",
      "rescaling (Rescaling)        (None, 512, 512, 3)       0         \n",
      "_________________________________________________________________\n",
      "conv2d (Conv2D)              (None, 512, 512, 16)      448       \n",
      "_________________________________________________________________\n",
      "max_pooling2d (MaxPooling2D) (None, 256, 256, 16)      0         \n",
      "_________________________________________________________________\n",
      "conv2d_1 (Conv2D)            (None, 256, 256, 32)      4640      \n",
      "_________________________________________________________________\n",
      "max_pooling2d_1 (MaxPooling2 (None, 128, 128, 32)      0         \n",
      "_________________________________________________________________\n",
      "dropout (Dropout)            (None, 128, 128, 32)      0         \n",
      "_________________________________________________________________\n",
      "conv2d_2 (Conv2D)            (None, 128, 128, 64)      18496     \n",
      "_________________________________________________________________\n",
      "max_pooling2d_2 (MaxPooling2 (None, 64, 64, 64)        0         \n",
      "_________________________________________________________________\n",
      "flatten (Flatten)            (None, 262144)            0         \n",
      "_________________________________________________________________\n",
      "dense (Dense)                (None, 128)               33554560  \n",
      "_________________________________________________________________\n",
      "dense_1 (Dense)              (None, 2)                 258       \n",
      "=================================================================\n",
      "Total params: 33,578,402\n",
      "Trainable params: 33,578,402\n",
      "Non-trainable params: 0\n",
      "_________________________________________________________________\n"
     ]
    }
   ],
   "source": [
    "model.summary()"
   ]
  },
  {
   "cell_type": "code",
   "execution_count": 23,
   "id": "1bb23c23",
   "metadata": {
    "execution": {
     "iopub.execute_input": "2024-02-02T18:21:25.528975Z",
     "iopub.status.busy": "2024-02-02T18:21:25.528366Z",
     "iopub.status.idle": "2024-02-02T18:21:25.534571Z",
     "shell.execute_reply": "2024-02-02T18:21:25.534046Z",
     "shell.execute_reply.started": "2024-02-02T18:09:48.307149Z"
    },
    "papermill": {
     "duration": 0.142814,
     "end_time": "2024-02-02T18:21:25.534718",
     "exception": false,
     "start_time": "2024-02-02T18:21:25.391904",
     "status": "completed"
    },
    "tags": []
   },
   "outputs": [],
   "source": [
    "model.compile(optimizer='adam',\n",
    "              loss=tf.keras.losses.SparseCategoricalCrossentropy(from_logits=True),\n",
    "              metrics=['accuracy'])\n"
   ]
  },
  {
   "cell_type": "code",
   "execution_count": 24,
   "id": "59d4aff3",
   "metadata": {
    "execution": {
     "iopub.execute_input": "2024-02-02T18:21:25.828402Z",
     "iopub.status.busy": "2024-02-02T18:21:25.827563Z",
     "iopub.status.idle": "2024-02-02T18:21:25.829650Z",
     "shell.execute_reply": "2024-02-02T18:21:25.830103Z",
     "shell.execute_reply.started": "2024-02-02T18:09:51.375986Z"
    },
    "papermill": {
     "duration": 0.148168,
     "end_time": "2024-02-02T18:21:25.830264",
     "exception": false,
     "start_time": "2024-02-02T18:21:25.682096",
     "status": "completed"
    },
    "tags": []
   },
   "outputs": [],
   "source": [
    "class myCallback(tf.keras.callbacks.Callback):\n",
    "    # Define the method that checks the accuracy at the end of each epoch\n",
    "    def on_epoch_end(self, epoch, logs={}):\n",
    "        if logs.get('accuracy') is not None and logs.get('accuracy') >= 0.95:\n",
    "            print(\"\\nReached 99.5% accuracy so cancelling training!\") \n",
    "            # Stop training once the above condition is met\n",
    "            self.model.stop_training = True"
   ]
  },
  {
   "cell_type": "code",
   "execution_count": 25,
   "id": "9affee23",
   "metadata": {
    "execution": {
     "iopub.execute_input": "2024-02-02T18:21:26.089516Z",
     "iopub.status.busy": "2024-02-02T18:21:26.088798Z",
     "iopub.status.idle": "2024-02-02T18:23:09.154969Z",
     "shell.execute_reply": "2024-02-02T18:23:09.155509Z",
     "shell.execute_reply.started": "2024-02-02T18:09:54.527875Z"
    },
    "papermill": {
     "duration": 103.19826,
     "end_time": "2024-02-02T18:23:09.155709",
     "exception": false,
     "start_time": "2024-02-02T18:21:25.957449",
     "status": "completed"
    },
    "tags": []
   },
   "outputs": [
    {
     "name": "stdout",
     "output_type": "stream",
     "text": [
      "Epoch 1/5\n",
      "58/58 [==============================] - 28s 336ms/step - loss: 0.9977 - accuracy: 0.5339 - val_loss: 0.6824 - val_accuracy: 0.5572\n",
      "Epoch 2/5\n",
      "58/58 [==============================] - 19s 307ms/step - loss: 0.6581 - accuracy: 0.6233 - val_loss: 0.6906 - val_accuracy: 0.5637\n",
      "Epoch 3/5\n",
      "58/58 [==============================] - 19s 305ms/step - loss: 0.5977 - accuracy: 0.6865 - val_loss: 0.7930 - val_accuracy: 0.5529\n",
      "Epoch 4/5\n",
      "58/58 [==============================] - 19s 305ms/step - loss: 0.4359 - accuracy: 0.7809 - val_loss: 0.9961 - val_accuracy: 0.5378\n",
      "Epoch 5/5\n",
      "58/58 [==============================] - 19s 307ms/step - loss: 0.2463 - accuracy: 0.8918 - val_loss: 1.4845 - val_accuracy: 0.5313\n"
     ]
    }
   ],
   "source": [
    "epochs=5\n",
    "history = model.fit(\n",
    "  train_ds,\n",
    "  validation_data=valid_ds,\n",
    "  epochs=epochs\n",
    ")"
   ]
  },
  {
   "cell_type": "code",
   "execution_count": 26,
   "id": "17bd6c48",
   "metadata": {
    "execution": {
     "iopub.execute_input": "2024-02-02T18:23:09.624066Z",
     "iopub.status.busy": "2024-02-02T18:23:09.623379Z",
     "iopub.status.idle": "2024-02-02T18:23:10.002381Z",
     "shell.execute_reply": "2024-02-02T18:23:10.001771Z",
     "shell.execute_reply.started": "2024-02-02T18:13:15.079546Z"
    },
    "papermill": {
     "duration": 0.626485,
     "end_time": "2024-02-02T18:23:10.002521",
     "exception": false,
     "start_time": "2024-02-02T18:23:09.376036",
     "status": "completed"
    },
    "tags": []
   },
   "outputs": [
    {
     "data": {
      "image/png": "[encoded data removed]",
      "text/plain": [
       "<Figure size 576x576 with 2 Axes>"
      ]
     },
     "metadata": {
      "needs_background": "light"
     },
     "output_type": "display_data"
    }
   ],
   "source": [
    "import matplotlib.pyplot as plt\n",
    "acc = history.history['accuracy']\n",
    "val_acc = history.history['val_accuracy']\n",
    "\n",
    "loss = history.history['loss']\n",
    "val_loss = history.history['val_loss']\n",
    "\n",
    "epochs_range = range(epochs)\n",
    "\n",
    "plt.figure(figsize=(8, 8))\n",
    "plt.subplot(1, 2, 1)\n",
    "plt.plot(epochs_range, acc, label='Training Accuracy')\n",
    "plt.plot(epochs_range, val_acc, label='Validation Accuracy')\n",
    "plt.legend(loc='lower right')\n",
    "plt.title('Training and Validation Accuracy')\n",
    "\n",
    "plt.subplot(1, 2, 2)\n",
    "plt.plot(epochs_range, loss, label='Training Loss')\n",
    "plt.plot(epochs_range, val_loss, label='Validation Loss')\n",
    "plt.legend(loc='upper right')\n",
    "plt.title('Training and Validation Loss')\n",
    "plt.show()\n"
   ]
  },
  {
   "cell_type": "code",
   "execution_count": 27,
   "id": "663a518e",
   "metadata": {
    "execution": {
     "iopub.execute_input": "2024-02-02T18:23:10.454729Z",
     "iopub.status.busy": "2024-02-02T18:23:10.454058Z",
     "iopub.status.idle": "2024-02-02T18:23:10.717124Z",
     "shell.execute_reply": "2024-02-02T18:23:10.717654Z",
     "shell.execute_reply.started": "2024-02-02T18:13:36.913363Z"
    },
    "papermill": {
     "duration": 0.493694,
     "end_time": "2024-02-02T18:23:10.717836",
     "exception": false,
     "start_time": "2024-02-02T18:23:10.224142",
     "status": "completed"
    },
    "tags": []
   },
   "outputs": [],
   "source": [
    "from PIL import Image\n",
    "import numpy as np\n",
    "from skimage import transform\n",
    "def load(filename):\n",
    "   np_image = Image.open(filename)\n",
    "   np_image = np.array(np_image).astype('float32')/255\n",
    "   np_image = transform.resize(np_image, (512, 512, 3))\n",
    "   np_image = np.expand_dims(np_image, axis=0)\n",
    "   return np_image"
   ]
  },
  {
   "cell_type": "code",
   "execution_count": 28,
   "id": "ee3f332c",
   "metadata": {
    "execution": {
     "iopub.execute_input": "2024-02-02T18:23:11.183124Z",
     "iopub.status.busy": "2024-02-02T18:23:11.182526Z",
     "iopub.status.idle": "2024-02-02T18:23:12.010681Z",
     "shell.execute_reply": "2024-02-02T18:23:12.010107Z",
     "shell.execute_reply.started": "2024-02-02T18:13:39.136849Z"
    },
    "papermill": {
     "duration": 1.054355,
     "end_time": "2024-02-02T18:23:12.010826",
     "exception": false,
     "start_time": "2024-02-02T18:23:10.956471",
     "status": "completed"
    },
    "tags": []
   },
   "outputs": [],
   "source": [
    "testdata_path = \"/kaggle/input/rsna-screen-breast-cancer-detect-testdata-512x512\"\n",
    "pred_dict = dict()\n",
    "for ii in os.listdir(testdata_path):\n",
    "    tmpPath = testdata_path + \"/\" + ii\n",
    "    image = load(tmpPath)\n",
    "    predictions = model.predict(image)\n",
    "    score = tf.nn.softmax(predictions[0])\n",
    "    pred_dict[ii] = float(max(score))"
   ]
  },
  {
   "cell_type": "code",
   "execution_count": 29,
   "id": "2797762a",
   "metadata": {
    "execution": {
     "iopub.execute_input": "2024-02-02T18:23:12.463677Z",
     "iopub.status.busy": "2024-02-02T18:23:12.463006Z",
     "iopub.status.idle": "2024-02-02T18:23:12.466708Z",
     "shell.execute_reply": "2024-02-02T18:23:12.466203Z",
     "shell.execute_reply.started": "2024-02-02T18:13:43.048653Z"
    },
    "papermill": {
     "duration": 0.233845,
     "end_time": "2024-02-02T18:23:12.466841",
     "exception": false,
     "start_time": "2024-02-02T18:23:12.232996",
     "status": "completed"
    },
    "tags": []
   },
   "outputs": [
    {
     "name": "stdout",
     "output_type": "stream",
     "text": [
      "{'10008_L': {'1591370361.png': 0.6729117631912231,\n",
      "             '736471439.png': 0.5565143823623657},\n",
      " '10008_R': {'361203119.png': 0.5560362339019775,\n",
      "             '68070693.png': 0.9385958313941956}}\n"
     ]
    }
   ],
   "source": [
    "from pprint import pprint\n",
    "testD = {\"10008_L\":{\"736471439.png\":0, \"1591370361.png\":0}, \n",
    "         \"10008_R\":{\"68070693.png\":0,\"361203119.png\":0}}\n",
    "\n",
    "for k1 in testD:\n",
    "    for k2 in testD[k1]:\n",
    "        testD[k1][k2] = pred_dict[k2]\n",
    "\n",
    "pprint(testD)"
   ]
  },
  {
   "cell_type": "code",
   "execution_count": 30,
   "id": "7ef84968",
   "metadata": {
    "execution": {
     "iopub.execute_input": "2024-02-02T18:23:12.916451Z",
     "iopub.status.busy": "2024-02-02T18:23:12.915767Z",
     "iopub.status.idle": "2024-02-02T18:23:12.930885Z",
     "shell.execute_reply": "2024-02-02T18:23:12.930399Z",
     "shell.execute_reply.started": "2024-02-02T18:13:47.823877Z"
    },
    "papermill": {
     "duration": 0.241161,
     "end_time": "2024-02-02T18:23:12.931014",
     "exception": false,
     "start_time": "2024-02-02T18:23:12.689853",
     "status": "completed"
    },
    "tags": []
   },
   "outputs": [
    {
     "data": {
      "text/html": [
       "<div>\n",
       "<style scoped>\n",
       "    .dataframe tbody tr th:only-of-type {\n",
       "        vertical-align: middle;\n",
       "    }\n",
       "\n",
       "    .dataframe tbody tr th {\n",
       "        vertical-align: top;\n",
       "    }\n",
       "\n",
       "    .dataframe thead th {\n",
       "        text-align: right;\n",
       "    }\n",
       "</style>\n",
       "<table border=\"1\" class=\"dataframe\">\n",
       "  <thead>\n",
       "    <tr style=\"text-align: right;\">\n",
       "      <th></th>\n",
       "      <th>prediction_id</th>\n",
       "      <th>cancer</th>\n",
       "    </tr>\n",
       "  </thead>\n",
       "  <tbody>\n",
       "    <tr>\n",
       "      <th>0</th>\n",
       "      <td>10008_L</td>\n",
       "      <td>0.021168</td>\n",
       "    </tr>\n",
       "    <tr>\n",
       "      <th>1</th>\n",
       "      <td>10008_R</td>\n",
       "      <td>0.021168</td>\n",
       "    </tr>\n",
       "  </tbody>\n",
       "</table>\n",
       "</div>"
      ],
      "text/plain": [
       "  prediction_id    cancer\n",
       "0       10008_L  0.021168\n",
       "1       10008_R  0.021168"
      ]
     },
     "execution_count": 30,
     "metadata": {},
     "output_type": "execute_result"
    }
   ],
   "source": [
    "submission = pd.read_csv(\"/kaggle/input/rsna-breast-cancer-detection/sample_submission.csv\")\n",
    "submission"
   ]
  },
  {
   "cell_type": "code",
   "execution_count": 31,
   "id": "d0d19e79",
   "metadata": {
    "execution": {
     "iopub.execute_input": "2024-02-02T18:23:13.384303Z",
     "iopub.status.busy": "2024-02-02T18:23:13.380581Z",
     "iopub.status.idle": "2024-02-02T18:23:13.390211Z",
     "shell.execute_reply": "2024-02-02T18:23:13.390818Z",
     "shell.execute_reply.started": "2024-02-02T18:13:51.570314Z"
    },
    "papermill": {
     "duration": 0.236936,
     "end_time": "2024-02-02T18:23:13.390983",
     "exception": false,
     "start_time": "2024-02-02T18:23:13.154047",
     "status": "completed"
    },
    "tags": []
   },
   "outputs": [
    {
     "name": "stderr",
     "output_type": "stream",
     "text": [
      "/opt/conda/lib/python3.7/site-packages/pandas/core/indexing.py:1637: SettingWithCopyWarning: \n",
      "A value is trying to be set on a copy of a slice from a DataFrame\n",
      "\n",
      "See the caveats in the documentation: https://pandas.pydata.org/pandas-docs/stable/user_guide/indexing.html#returning-a-view-versus-a-copy\n",
      "  self._setitem_single_block(indexer, value, name)\n"
     ]
    }
   ],
   "source": [
    "for jj in range(submission.shape[0]):\n",
    "    tmpKey = submission.prediction_id.iloc[jj]\n",
    "    submission.cancer.iloc[jj] = np.mean(list(testD[tmpKey].values()))"
   ]
  },
  {
   "cell_type": "code",
   "execution_count": 32,
   "id": "7ab6ee2f",
   "metadata": {
    "execution": {
     "iopub.execute_input": "2024-02-02T18:23:13.842544Z",
     "iopub.status.busy": "2024-02-02T18:23:13.841661Z",
     "iopub.status.idle": "2024-02-02T18:23:13.852637Z",
     "shell.execute_reply": "2024-02-02T18:23:13.853071Z",
     "shell.execute_reply.started": "2024-02-02T18:15:35.792766Z"
    },
    "papermill": {
     "duration": 0.239198,
     "end_time": "2024-02-02T18:23:13.853277",
     "exception": false,
     "start_time": "2024-02-02T18:23:13.614079",
     "status": "completed"
    },
    "tags": []
   },
   "outputs": [
    {
     "data": {
      "text/html": [
       "<div>\n",
       "<style scoped>\n",
       "    .dataframe tbody tr th:only-of-type {\n",
       "        vertical-align: middle;\n",
       "    }\n",
       "\n",
       "    .dataframe tbody tr th {\n",
       "        vertical-align: top;\n",
       "    }\n",
       "\n",
       "    .dataframe thead th {\n",
       "        text-align: right;\n",
       "    }\n",
       "</style>\n",
       "<table border=\"1\" class=\"dataframe\">\n",
       "  <thead>\n",
       "    <tr style=\"text-align: right;\">\n",
       "      <th></th>\n",
       "      <th>prediction_id</th>\n",
       "      <th>cancer</th>\n",
       "    </tr>\n",
       "  </thead>\n",
       "  <tbody>\n",
       "    <tr>\n",
       "      <th>0</th>\n",
       "      <td>10008_L</td>\n",
       "      <td>0.614713</td>\n",
       "    </tr>\n",
       "    <tr>\n",
       "      <th>1</th>\n",
       "      <td>10008_R</td>\n",
       "      <td>0.747316</td>\n",
       "    </tr>\n",
       "  </tbody>\n",
       "</table>\n",
       "</div>"
      ],
      "text/plain": [
       "  prediction_id    cancer\n",
       "0       10008_L  0.614713\n",
       "1       10008_R  0.747316"
      ]
     },
     "execution_count": 32,
     "metadata": {},
     "output_type": "execute_result"
    }
   ],
   "source": [
    "submission.to_csv(\"submission.csv\")\n",
    "submission"
   ]
  }
 ],
 "metadata": {
  "kaggle": {
   "accelerator": "gpu",
   "dataSources": [
    {
     "databundleVersionId": 4629629,
     "sourceId": 39272,
     "sourceType": "competition"
    },
    {
     "datasetId": 2688675,
     "sourceId": 4619805,
     "sourceType": "datasetVersion"
    },
    {
     "datasetId": 2802588,
     "sourceId": 4836351,
     "sourceType": "datasetVersion"
    }
   ],
   "dockerImageVersionId": 30132,
   "isGpuEnabled": true,
   "isInternetEnabled": false,
   "language": "python",
   "sourceType": "notebook"
  },
  "kernelspec": {
   "display_name": "Python 3",
   "language": "python",
   "name": "python3"
  },
  "language_info": {
   "codemirror_mode": {
    "name": "ipython",
    "version": 3
   },
   "file_extension": ".py",
   "mimetype": "text/x-python",
   "name": "python",
   "nbconvert_exporter": "python",
   "pygments_lexer": "ipython3",
   "version": "3.7.10"
  },
  "papermill": {
   "default_parameters": {},
   "duration": 163.781209,
   "end_time": "2024-02-02T18:23:17.099454",
   "environment_variables": {},
   "exception": null,
   "input_path": "__notebook__.ipynb",
   "output_path": "__notebook__.ipynb",
   "parameters": {},
   "start_time": "2024-02-02T18:20:33.318245",
   "version": "2.3.3"
  }
 },
 "nbformat": 4,
 "nbformat_minor": 5
}
